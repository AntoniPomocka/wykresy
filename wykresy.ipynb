{
 "cells": [
  {
   "cell_type": "code",
   "execution_count": null,
   "metadata": {},
   "outputs": [],
   "source": [
    "import plotly.graph_objects as go"
   ]
  },
  {
   "cell_type": "code",
   "execution_count": null,
   "metadata": {},
   "outputs": [],
   "source": [
    "X = [\"Mark\",\"John\",\"Daniel\",\"Greg\"]\n",
    "Y = [1000,1500,2300,5000]\n",
    "\n",
    "data = go.Bar(x=X, y=Y)\n",
    "layout = {\n",
    "\t'title': 'Salaries with plotly'\n",
    "}\n",
    "fig = go.Figure(data, layout)\n",
    "fig.show()"
   ]
  }
 ],
 "metadata": {
  "language_info": {
   "name": "python"
  }
 },
 "nbformat": 4,
 "nbformat_minor": 2
}
